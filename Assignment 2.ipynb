{
 "cells": [
  {
   "cell_type": "markdown",
   "id": "eb86d60f",
   "metadata": {},
   "source": [
    "# Assignment 2\n"
   ]
  },
  {
   "cell_type": "markdown",
   "id": "ee259baa",
   "metadata": {},
   "source": [
    "## Question 1"
   ]
  },
  {
   "cell_type": "markdown",
   "id": "d48aab5e",
   "metadata": {},
   "source": [
    "### 1.What are the two values of the Boolean data type? How do you write them? \n",
    "\n",
    " Ans. True, False\n",
    "\n",
    "### 2. What are the three different types of Boolean operators?\n",
    "\n",
    " Ans.= and, or, and not\n",
    "\n",
    "### 3. Make a list of each Boolean operator's truth tables (i.e. every possible combination of Boolean values for the operator and what it evaluates).\n",
    "\n",
    " Ans. = Here 1 represents True and 0 shows False\n",
    "\n",
    " AND\n",
    "\n",
    " Input1\tInput2\tOutput\n",
    "\n",
    " 1\t1\t1\n",
    "\n",
    " 1\t0\t0\n",
    "\n",
    " 0\t0\t0\n",
    "\n",
    " OR\n",
    "\n",
    " Input1\tInput2\tOutput\n",
    "\n",
    " 1\t1\t1\n",
    "\n",
    " 1\t0\t1\n",
    "\n",
    " 0\t0\t0\n",
    "\n",
    " AND NOT\n",
    "\n",
    " Input1\tInput2\tOutput\n",
    "\n",
    " 1\t1\t0\n",
    "\n",
    " 1\t0\t1\n",
    "\n",
    " 0\t0\t1\n",
    "\n",
    "### 4. What are the values of the following expressions?\n",
    "\n",
    " (5 > 4) and (3 == 5): False\n",
    "\n",
    " not (5 > 4) : False\n",
    "\n",
    " (5 > 4) or (3 == 5) : True\n",
    "\n",
    " not ((5 > 4) or (3 == 5)) False\n",
    "\n",
    " (True and True) and (True == False) : False\n",
    "\n",
    " (not False) or (not True) :True\n",
    "\n",
    "### 5. What are the six comparison operators?\n",
    "\n",
    " Ans.= (==, <, >, <=, >=, !=)\n",
    "\n",
    "### 6. How do you tell the difference between the equal to and assignment operators?Describe a condition and when you would use one.\n",
    "\n",
    " The equal to uses 2 equal signs(==) whereas the assignment operator uses a single equal sign(=). \n",
    "\n",
    " We will use equal to when we have to check whether a number equals something or not.\n",
    "\n",
    " Eg. a=5, this will assign a as 5\n",
    "\n",
    " a==6, will check and give output as False because a Is 5.\n",
    "\n"
   ]
  },
  {
   "cell_type": "markdown",
   "id": "d87e29af",
   "metadata": {},
   "source": [
    "### 7. Identify the three blocks in this code:"
   ]
  },
  {
   "cell_type": "code",
   "execution_count": 4,
   "id": "4a031059",
   "metadata": {},
   "outputs": [
    {
     "name": "stdout",
     "output_type": "stream",
     "text": [
      "ham\n",
      "spam\n",
      "spam\n"
     ]
    }
   ],
   "source": [
    "spam = 0\n",
    "## Block 1\n",
    "if spam == 10:\n",
    "    print('eggs')\n",
    "## Block 2\n",
    "if spam > 5:\n",
    "    print('bacon')\n",
    "## Block 3\n",
    "else:\n",
    "    print('ham')\n",
    "    print('spam')\n",
    "    print('spam')\n"
   ]
  },
  {
   "cell_type": "markdown",
   "id": "349d5882",
   "metadata": {},
   "source": [
    "### 8. Write code that prints Hello if 1 is stored in spam, prints Howdy if 2 is stored in spam, and prints Greetings! if anything else is stored in spam."
   ]
  },
  {
   "cell_type": "code",
   "execution_count": 8,
   "id": "cc7dbac6",
   "metadata": {},
   "outputs": [
    {
     "name": "stdout",
     "output_type": "stream",
     "text": [
      "Greetings!\n"
     ]
    }
   ],
   "source": [
    "spam = 2\n",
    "if spam == 1:\n",
    "    print('Hello')\n",
    "\n",
    "elif spam == 2:\n",
    "    print('Howdy')\n",
    "    \n",
    "else:\n",
    "    print('Greetings!')"
   ]
  },
  {
   "cell_type": "markdown",
   "id": "dbbdab69",
   "metadata": {},
   "source": [
    "### 9.If your programme is stuck in an endless loop, what keys you’ll press?\n",
    "Ans.= Ctrl+C\n"
   ]
  },
  {
   "cell_type": "markdown",
   "id": "fc195a31",
   "metadata": {},
   "source": [
    "### 10. How can you tell the difference between break and continue?\n",
    "Ans. = break takes us out of the loop whereas continue takes us to a new iteration of the loop to run the loop again."
   ]
  },
  {
   "cell_type": "markdown",
   "id": "45445596",
   "metadata": {},
   "source": [
    "### 11. In a for loop, what is the difference between range(10), range(0, 10), and range(0, 10, 1)?"
   ]
  },
  {
   "cell_type": "markdown",
   "id": "a4bc898a",
   "metadata": {},
   "source": [
    "Ans.= They are the same"
   ]
  },
  {
   "cell_type": "markdown",
   "id": "b97ec330",
   "metadata": {},
   "source": [
    "### 12. Write a short program that prints the numbers 1 to 10 using a for loop. Then write an equivalent program that prints the numbers 1 to 10 using a while loop."
   ]
  },
  {
   "cell_type": "code",
   "execution_count": 12,
   "id": "d0fef337",
   "metadata": {},
   "outputs": [
    {
     "name": "stdout",
     "output_type": "stream",
     "text": [
      "1\n",
      "2\n",
      "3\n",
      "4\n",
      "5\n",
      "6\n",
      "7\n",
      "8\n",
      "9\n",
      "10\n"
     ]
    }
   ],
   "source": [
    "# for loop\n",
    "for i in range(1,11):\n",
    "    print(i)"
   ]
  },
  {
   "cell_type": "code",
   "execution_count": 13,
   "id": "8de493d3",
   "metadata": {},
   "outputs": [
    {
     "name": "stdout",
     "output_type": "stream",
     "text": [
      "1\n",
      "2\n",
      "3\n",
      "4\n",
      "5\n",
      "6\n",
      "7\n",
      "8\n",
      "9\n",
      "10\n"
     ]
    }
   ],
   "source": [
    "# while loop\n",
    "i = 1\n",
    "while i <= 10:\n",
    "    print(i)\n",
    "    i+=1"
   ]
  },
  {
   "cell_type": "markdown",
   "id": "aa86c25d",
   "metadata": {},
   "source": [
    "### 13. If you had a function named bacon() inside a module named spam, how would you call it after importing spam?\n",
    "\n",
    "import spam\n",
    "\n",
    "spam.bacon()"
   ]
  },
  {
   "cell_type": "code",
   "execution_count": null,
   "id": "4e63e66f",
   "metadata": {},
   "outputs": [],
   "source": []
  }
 ],
 "metadata": {
  "kernelspec": {
   "display_name": "Python 3 (ipykernel)",
   "language": "python",
   "name": "python3"
  },
  "language_info": {
   "codemirror_mode": {
    "name": "ipython",
    "version": 3
   },
   "file_extension": ".py",
   "mimetype": "text/x-python",
   "name": "python",
   "nbconvert_exporter": "python",
   "pygments_lexer": "ipython3",
   "version": "3.9.7"
  }
 },
 "nbformat": 4,
 "nbformat_minor": 5
}
